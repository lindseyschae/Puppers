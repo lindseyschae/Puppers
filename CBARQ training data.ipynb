{
 "cells": [
  {
   "cell_type": "markdown",
   "id": "8288f722",
   "metadata": {},
   "source": [
    "# Pre-Processing and Training Data Development: CBARQ Survey"
   ]
  },
  {
   "cell_type": "markdown",
   "id": "4e2cf24f",
   "metadata": {},
   "source": [
    "### Problem: Does dog breed affect behavioral traits, specifically chasing (or herding)?"
   ]
  },
  {
   "cell_type": "markdown",
   "id": "c5602ba0",
   "metadata": {},
   "source": [
    "The purpose of this project is to assess how dog breeds affect behavioral traits, with the focus narrowed to chasing (see previous EDA step of this project for explanation why). Therefore, here I will create dummy variables for the breeds and conduct a train/test split. I will not need to use a scaler, as all of my independent variables will be dummy values (binary 0s and 1s)."
   ]
  },
  {
   "cell_type": "code",
   "execution_count": 1,
   "id": "e1c3cb04",
   "metadata": {},
   "outputs": [],
   "source": [
    "# Imports\n",
    "\n",
    "import pandas as pd\n",
    "import numpy as np\n",
    "import matplotlib.pyplot as plt \n",
    "import seaborn as sns\n",
    "from sklearn.model_selection import train_test_split"
   ]
  },
  {
   "cell_type": "code",
   "execution_count": 2,
   "id": "873f05b2",
   "metadata": {},
   "outputs": [],
   "source": [
    "# Evaluate dataset created during EDA to double-check for missing values and datatypes.\n",
    "\n",
    "df = pd.read_csv('EDA_CBARQ')\n",
    "\n",
    "# print(df.isnull().sum())\n",
    "\n",
    "# print(df.describe())\n",
    "\n",
    "# print(df.head())\n",
    "\n",
    "# print(df.columns)\n",
    "\n",
    "# print(df.dtypes)\n",
    "\n",
    "# Remove extra columns\n",
    "df = df[['BreedID', 'chasing',]]"
   ]
  },
  {
   "cell_type": "code",
   "execution_count": 3,
   "id": "d409de69",
   "metadata": {},
   "outputs": [
    {
     "data": {
      "text/html": [
       "<div>\n",
       "<style scoped>\n",
       "    .dataframe tbody tr th:only-of-type {\n",
       "        vertical-align: middle;\n",
       "    }\n",
       "\n",
       "    .dataframe tbody tr th {\n",
       "        vertical-align: top;\n",
       "    }\n",
       "\n",
       "    .dataframe thead th {\n",
       "        text-align: right;\n",
       "    }\n",
       "</style>\n",
       "<table border=\"1\" class=\"dataframe\">\n",
       "  <thead>\n",
       "    <tr style=\"text-align: right;\">\n",
       "      <th></th>\n",
       "      <th>chasing</th>\n",
       "      <th>Australian Shepherd</th>\n",
       "      <th>Border Collie</th>\n",
       "      <th>Doberman Pinscher</th>\n",
       "      <th>German Shepherd</th>\n",
       "      <th>Golden Retriever</th>\n",
       "      <th>Labrador Retriever</th>\n",
       "      <th>Mixed Breed/Unknown</th>\n",
       "      <th>Poodle (Standard)</th>\n",
       "      <th>Rottweiler</th>\n",
       "      <th>Soft Coated Wheaten Terrier</th>\n",
       "    </tr>\n",
       "  </thead>\n",
       "  <tbody>\n",
       "    <tr>\n",
       "      <th>0</th>\n",
       "      <td>3.25</td>\n",
       "      <td>0</td>\n",
       "      <td>0</td>\n",
       "      <td>0</td>\n",
       "      <td>0</td>\n",
       "      <td>0</td>\n",
       "      <td>0</td>\n",
       "      <td>1</td>\n",
       "      <td>0</td>\n",
       "      <td>0</td>\n",
       "      <td>0</td>\n",
       "    </tr>\n",
       "    <tr>\n",
       "      <th>1</th>\n",
       "      <td>3.00</td>\n",
       "      <td>0</td>\n",
       "      <td>0</td>\n",
       "      <td>0</td>\n",
       "      <td>0</td>\n",
       "      <td>0</td>\n",
       "      <td>0</td>\n",
       "      <td>1</td>\n",
       "      <td>0</td>\n",
       "      <td>0</td>\n",
       "      <td>0</td>\n",
       "    </tr>\n",
       "    <tr>\n",
       "      <th>2</th>\n",
       "      <td>4.25</td>\n",
       "      <td>0</td>\n",
       "      <td>0</td>\n",
       "      <td>0</td>\n",
       "      <td>0</td>\n",
       "      <td>0</td>\n",
       "      <td>1</td>\n",
       "      <td>0</td>\n",
       "      <td>0</td>\n",
       "      <td>0</td>\n",
       "      <td>0</td>\n",
       "    </tr>\n",
       "    <tr>\n",
       "      <th>3</th>\n",
       "      <td>2.75</td>\n",
       "      <td>0</td>\n",
       "      <td>0</td>\n",
       "      <td>0</td>\n",
       "      <td>0</td>\n",
       "      <td>0</td>\n",
       "      <td>0</td>\n",
       "      <td>1</td>\n",
       "      <td>0</td>\n",
       "      <td>0</td>\n",
       "      <td>0</td>\n",
       "    </tr>\n",
       "    <tr>\n",
       "      <th>4</th>\n",
       "      <td>2.75</td>\n",
       "      <td>0</td>\n",
       "      <td>1</td>\n",
       "      <td>0</td>\n",
       "      <td>0</td>\n",
       "      <td>0</td>\n",
       "      <td>0</td>\n",
       "      <td>0</td>\n",
       "      <td>0</td>\n",
       "      <td>0</td>\n",
       "      <td>0</td>\n",
       "    </tr>\n",
       "  </tbody>\n",
       "</table>\n",
       "</div>"
      ],
      "text/plain": [
       "   chasing  Australian Shepherd  Border Collie  Doberman Pinscher  \\\n",
       "0     3.25                    0              0                  0   \n",
       "1     3.00                    0              0                  0   \n",
       "2     4.25                    0              0                  0   \n",
       "3     2.75                    0              0                  0   \n",
       "4     2.75                    0              1                  0   \n",
       "\n",
       "   German Shepherd  Golden Retriever  Labrador Retriever  Mixed Breed/Unknown  \\\n",
       "0                0                 0                   0                    1   \n",
       "1                0                 0                   0                    1   \n",
       "2                0                 0                   1                    0   \n",
       "3                0                 0                   0                    1   \n",
       "4                0                 0                   0                    0   \n",
       "\n",
       "   Poodle (Standard)  Rottweiler  Soft Coated Wheaten Terrier  \n",
       "0                  0           0                            0  \n",
       "1                  0           0                            0  \n",
       "2                  0           0                            0  \n",
       "3                  0           0                            0  \n",
       "4                  0           0                            0  "
      ]
     },
     "execution_count": 3,
     "metadata": {},
     "output_type": "execute_result"
    }
   ],
   "source": [
    "# Creating dummy/indicator variables for the categorical data, BreedID (10 values)\n",
    "\n",
    "dummies = pd.get_dummies(df['BreedID']).astype('int')\n",
    "\n",
    "# Create a dataframe with the dummy variables, excluding the original column\n",
    "\n",
    "df_final = pd.concat([df, dummies], axis=1).drop('BreedID', axis=1)\n",
    "df_final.head()"
   ]
  },
  {
   "cell_type": "code",
   "execution_count": 4,
   "id": "5feaaae2",
   "metadata": {},
   "outputs": [],
   "source": [
    "# Separate X and y dataframes\n",
    "\n",
    "X = df_final[['Australian Shepherd', 'Border Collie', 'Doberman Pinscher',\n",
    "              'German Shepherd', 'Golden Retriever', 'Labrador Retriever','Mixed Breed/Unknown', \n",
    "              'Poodle (Standard)', 'Rottweiler','Soft Coated Wheaten Terrier']]\n",
    "\n",
    "y = df_final['chasing']"
   ]
  },
  {
   "cell_type": "code",
   "execution_count": 5,
   "id": "d7a53bd8",
   "metadata": {},
   "outputs": [],
   "source": [
    "# Split data into training and test sets. (70/30 or 80/20)\n",
    "\n",
    "Xtrain, Xtest, ytrain, ytest = train_test_split(X, y, test_size = 0.3, random_state = 55)"
   ]
  },
  {
   "cell_type": "code",
   "execution_count": 6,
   "id": "3dca787a",
   "metadata": {},
   "outputs": [],
   "source": [
    "# Since all of my X values are binary 0/1 dummy variables for breeds, I don't need to use a scaler."
   ]
  },
  {
   "cell_type": "markdown",
   "id": "fe32df14",
   "metadata": {},
   "source": [
    "Narrowing this dataset to just 'chasing' and breeds makes it far simpler and eliminates a lot of the noise generated by some other traits which didn't show very clear relationships. The reasoning for this limitation is in the EDA portion of this project."
   ]
  },
  {
   "cell_type": "markdown",
   "id": "4f04fdb3",
   "metadata": {},
   "source": [
    "The data has been separated into training and test sets, as well as X and y variables (with chasing being the y, dependent variable, and the breeds being the X, independent variables). All X values are 0 or 1, and y values ranging from 1-5 (as they were acquired through a survey which used those numbers for rating). "
   ]
  }
 ],
 "metadata": {
  "kernelspec": {
   "display_name": "Python 3 (ipykernel)",
   "language": "python",
   "name": "python3"
  },
  "language_info": {
   "codemirror_mode": {
    "name": "ipython",
    "version": 3
   },
   "file_extension": ".py",
   "mimetype": "text/x-python",
   "name": "python",
   "nbconvert_exporter": "python",
   "pygments_lexer": "ipython3",
   "version": "3.11.5"
  }
 },
 "nbformat": 4,
 "nbformat_minor": 5
}
